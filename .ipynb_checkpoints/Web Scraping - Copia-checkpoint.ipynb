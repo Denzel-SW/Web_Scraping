{
 "cells": [
  {
   "cell_type": "markdown",
   "id": "ea5cd09b",
   "metadata": {},
   "source": [
    "**WEB SCRAPING**"
   ]
  },
  {
   "cell_type": "code",
   "execution_count": 1,
   "id": "f1da3f98",
   "metadata": {},
   "outputs": [],
   "source": [
    "#Importando as bibliotecas\n",
    "import requests\n",
    "from bs4 import BeautifulSoup\n",
    "import pandas as pd"
   ]
  },
  {
   "cell_type": "code",
   "execution_count": 2,
   "id": "dd983407",
   "metadata": {},
   "outputs": [],
   "source": [
    "#escolhendo a pagina web que vamos fazer o scraping e colocando-a em uma variavel url\n",
    "\n",
    "url ='https://www.fastshop.com.br/web/s/celulares%20asus'"
   ]
  },
  {
   "cell_type": "code",
   "execution_count": 3,
   "id": "1b46bf09",
   "metadata": {},
   "outputs": [],
   "source": [
    "#definindo o header\n",
    "\n",
    "headers = {'User-Agent': \"Mozilla/5.0 (Windows NT 10.0; Win64; x64) AppleWebKit/537.36 (KHTML, like Gecko) Chrome/86.0.4240.198 Safari/537.36\"}"
   ]
  },
  {
   "cell_type": "code",
   "execution_count": 4,
   "id": "af05188e",
   "metadata": {},
   "outputs": [
    {
     "name": "stdout",
     "output_type": "stream",
     "text": [
      "Requisição bem-sucedida!\n"
     ]
    }
   ],
   "source": [
    "# verificando se o site responde ao nosso Headers\n",
    "response = requests.get(url, headers=headers)\n",
    "\n",
    "# Verificar se a requisição foi bem-sucedida (código de status 200)\n",
    "if response.status_code == 200:\n",
    "    print(\"Requisição bem-sucedida!\")\n",
    "    # Exibir o conteúdo da resposta\n",
    "    #print(response.content)\n",
    "else:\n",
    "    print(\"Falha na requisição. Código de status:\", response.status_code)"
   ]
  },
  {
   "cell_type": "code",
   "execution_count": 5,
   "id": "cd30dabb",
   "metadata": {},
   "outputs": [],
   "source": [
    "#Criando a variavel site e soup para fazer a requisição\n",
    "site = requests.get(url, headers=headers)\n",
    "soup = BeautifulSoup(site.content, 'html.parser')\n",
    "#celulares = soup.find_all('div', class_='dealsContent_product_list ProductCardNormalStore2__productCardContainer__3Yj0I ProductCardNormalStore2__isWhiteCard__3ijE2 undefined')\n",
    "#celulares2 = soup.find_all('div', class_='dealsContent_product_list ProductCardNormalStore2__productCardContainer__3Yj0I ProductCardNormalStore2__isWhiteCard__3ijE2 ProductCardNormalStore2__isNew__1o5EA undefined')\n",
    "#tamanho_da_lista = len(celulares2)\n",
    "#print(tamanho_da_lista)"
   ]
  },
  {
   "cell_type": "code",
   "execution_count": 18,
   "id": "564be0c3",
   "metadata": {},
   "outputs": [
    {
     "name": "stdout",
     "output_type": "stream",
     "text": [
      "16\n"
     ]
    }
   ],
   "source": [
    "#depois de uma investigação reparei que o site tem links diferentes para produtos em oferta e produtos com tag novo/oferta\n",
    "#sendo assim criei duas listas e com cada tipo de produto e depois uni as duas listas\n",
    "celulares = []\n",
    "celulares_2 = []\n",
    "\n",
    "oferta = soup.find_all('div', class_='dealsContent_product_list ProductCardNormalStore2__productCardContainer__3Yj0I ProductCardNormalStore2__isWhiteCard__3ijE2 undefined')\n",
    "for produto in oferta:\n",
    "    celulares.append(produto)\n",
    "novo_oferta = soup.find_all('div', class_='dealsContent_product_list ProductCardNormalStore2__productCardContainer__3Yj0I ProductCardNormalStore2__isWhiteCard__3ijE2 ProductCardNormalStore2__isNew__1o5EA undefined')\n",
    "for produto in novo_oferta:\n",
    "    celulares_2.append(produto)\n",
    "    \n",
    "todos_celulares = celulares.copy()\n",
    "todos_celulares.extend(celulares_2)\n",
    "tamanho_da_lista = len(todos_celulares)\n",
    "print(tamanho_da_lista)"
   ]
  },
  {
   "cell_type": "code",
   "execution_count": 20,
   "id": "945c5331",
   "metadata": {},
   "outputs": [
    {
     "name": "stdout",
     "output_type": "stream",
     "text": [
      "ROG Gaming Charger Dock\n"
     ]
    }
   ],
   "source": [
    "#pegando o nome de cada protudo\n",
    "celular = todos_celulares[14]\n",
    "nome = celular.find('a', class_='headingRow ProductCardNormalStore2__headingRow__3sb9D').get_text().strip()\n",
    "print(nome)"
   ]
  },
  {
   "cell_type": "code",
   "execution_count": 8,
   "id": "ff6e3dc4",
   "metadata": {},
   "outputs": [
    {
     "name": "stdout",
     "output_type": "stream",
     "text": [
      "<div class=\"itemModelSpec ProductCardNormalStore2__itemModelSpec__cg96R\"><ul>\n",
      "<li>Qualcomm Snapdragon 8+ Gen 1</li>\n",
      "<li>LPDDR5 8GB</li>\n",
      "<li>UFS3.1 256GB</li>\n",
      "<li>Bateria de 6000mAh</li>\n",
      "</ul></div>\n"
     ]
    }
   ],
   "source": [
    "atributo = celular.find('div', class_='itemModelSpec ProductCardNormalStore2__itemModelSpec__cg96R')\n",
    "print(atributo)"
   ]
  },
  {
   "cell_type": "code",
   "execution_count": 21,
   "id": "f6e5a58b",
   "metadata": {},
   "outputs": [],
   "source": [
    "# Supondo que você tenha uma lista de elementos celulares\n",
    "#celulares = [...]\n",
    "\n",
    "# Inicialize uma lista vazia para armazenar os dicionários de atributos\n",
    "atributos_celulares = []\n",
    "\n",
    "# Itere sobre cada celular na lista\n",
    "for celular in todos_celulares:\n",
    "    # Extrai o nome do celular\n",
    "    nome = celular.find('a', class_='headingRow ProductCardNormalStore2__headingRow__3sb9D').get_text().strip()\n",
    "    \n",
    "    # Extrai os atributos do celular\n",
    "    atributo_div = celular.find('div', class_='itemModelSpec ProductCardNormalStore2__itemModelSpec__cg96R')\n",
    "    atributos = atributo_div.find_all('li')\n",
    "    \n",
    "    # Cria uma lista para armazenar os atributos do celular\n",
    "    atributos_celular = []\n",
    "    \n",
    "    # Adiciona os atributos à lista\n",
    "    for atributo in atributos:\n",
    "        # Adiciona o texto completo do <li> à lista de atributos\n",
    "        atributos_celular.append(atributo.get_text().strip())\n",
    "    \n",
    "    # Adiciona a lista de atributos ao lista de atributos de celulares\n",
    "    atributos_celulares.append({nome: atributos_celular})"
   ]
  },
  {
   "cell_type": "code",
   "execution_count": 22,
   "id": "911f8df5",
   "metadata": {},
   "outputs": [
    {
     "name": "stdout",
     "output_type": "stream",
     "text": [
      "{'Console portátil ROG Ally  RC71L-NH010W': ['Windows 11 Home', 'AMD Ryzen™ Z1 Extreme Processor', 'AMD Radeon™ Graphics (AMD RDNA™ 3, 12 CUs, up to 2.7 GHz, up to 8.6 Teraflops)', '7-inch, FHD (1920 x 1080) 16:9, Refresh Rate: 120Hz', '16GB LPDDR5 on board', '512GB PCIe® 4.0 NVMe™ M.2 SSD']}\n",
      "{'Smartphone Gamer ASUS ROG Phone 7 Ultimate': ['Qualcomm Snapdragon 8 Gen 2', 'LPDDR5X 16GB', 'UFS4.0 512GB']}\n",
      "{'AeroActive Cooler 6 for ROG Phone 5/5s Series': []}\n",
      "{'Smartphone Gamer ASUS ROG Phone 6 Pro': ['Qualcomm Snapdragon 8+ Gen 1', 'LPDDR5 18GB', 'UFS3.1 512GB', 'Bateria de 6000mAh']}\n",
      "{'Smartphone Gamer ASUS ROG Phone 6D Ultimate': ['MediaTek Dimensity 9000+', 'LPDDR5X 16GB', 'UFS3.1 512GB', 'Bateria de 6000mAh']}\n",
      "{'AeroActive Cooler 6': []}\n",
      "{'Smartphone Gamer ASUS ROG Phone 6': ['Qualcomm Snapdragon 8+ Gen 1', 'LPDDR5 8GB', 'UFS3.1 256GB', 'Bateria de 6000mAh']}\n",
      "{'Smartphone Gamer ASUS ROG Phone 6': ['Qualcomm Snapdragon 8+ Gen 1', 'LPDDR5 12GB', 'UFS3.1 256GB', 'Bateria de 6000mAh']}\n",
      "{'Suporte inteligente para mochila  - Zenfone 9': []}\n",
      "{'Smartphone ASUS Zenfone 9': ['Chipset Qualcomm® Snapdragon™ 8+ Gen 1', 'Tela 5,9\" AMOLED 120 Hz', 'Memória RAM de até 16 GB', 'Armazenamento de 128 ou 256 GB', 'Bateria de 4.300mAh', 'Proteção IP68']}\n",
      "{'Capa Devilcase para Zenfone 9': ['Resistente e leve', 'Proteção de nível militar', 'Anel protetor de alumínio, para proteção da câmera', 'Botões construídos em liga de alumínio']}\n",
      "{'ROG Phone 5 Lighting Armor Case': []}\n",
      "{'ZenPower Slim': []}\n",
      "{'ROG Ally Travel Case  ROG ALLY TRAVEL CASE': []}\n",
      "{'ROG Gaming Charger Dock': []}\n",
      "{'Smartphone ASUS Zenfone 10': ['Chipset Qualcomm® Snapdragon™ 8 Gen 2', 'Tela 5,9\" AMOLED FHD+ (2400x1080)', 'Câmera principal com sensor Sony® IMX766 de 50 MP', 'Memória RAM de até 16 GB', 'Armazenamento de até 512 GB', 'Bateria de 4.300 mAh', 'Proteção IP68']}\n"
     ]
    }
   ],
   "source": [
    "for atributos_celular in atributos_celulares:\n",
    "    print(atributos_celular)"
   ]
  },
  {
   "cell_type": "code",
   "execution_count": 23,
   "id": "8fc7ff36",
   "metadata": {},
   "outputs": [
    {
     "data": {
      "text/html": [
       "<div>\n",
       "<style scoped>\n",
       "    .dataframe tbody tr th:only-of-type {\n",
       "        vertical-align: middle;\n",
       "    }\n",
       "\n",
       "    .dataframe tbody tr th {\n",
       "        vertical-align: top;\n",
       "    }\n",
       "\n",
       "    .dataframe thead th {\n",
       "        text-align: right;\n",
       "    }\n",
       "</style>\n",
       "<table border=\"1\" class=\"dataframe\">\n",
       "  <thead>\n",
       "    <tr style=\"text-align: right;\">\n",
       "      <th></th>\n",
       "      <th>Nome Produto</th>\n",
       "      <th>Atributos</th>\n",
       "    </tr>\n",
       "  </thead>\n",
       "  <tbody>\n",
       "    <tr>\n",
       "      <th>0</th>\n",
       "      <td>Console portátil ROG Ally  RC71L-NH010W</td>\n",
       "      <td>[Windows 11 Home, AMD Ryzen™ Z1 Extreme Proces...</td>\n",
       "    </tr>\n",
       "    <tr>\n",
       "      <th>1</th>\n",
       "      <td>Smartphone Gamer ASUS ROG Phone 7 Ultimate</td>\n",
       "      <td>[Qualcomm Snapdragon 8 Gen 2, LPDDR5X 16GB, UF...</td>\n",
       "    </tr>\n",
       "    <tr>\n",
       "      <th>2</th>\n",
       "      <td>AeroActive Cooler 6 for ROG Phone 5/5s Series</td>\n",
       "      <td>[]</td>\n",
       "    </tr>\n",
       "    <tr>\n",
       "      <th>3</th>\n",
       "      <td>Smartphone Gamer ASUS ROG Phone 6 Pro</td>\n",
       "      <td>[Qualcomm Snapdragon 8+ Gen 1, LPDDR5 18GB, UF...</td>\n",
       "    </tr>\n",
       "    <tr>\n",
       "      <th>4</th>\n",
       "      <td>Smartphone Gamer ASUS ROG Phone 6D Ultimate</td>\n",
       "      <td>[MediaTek Dimensity 9000+, LPDDR5X 16GB, UFS3....</td>\n",
       "    </tr>\n",
       "  </tbody>\n",
       "</table>\n",
       "</div>"
      ],
      "text/plain": [
       "                                    Nome Produto  \\\n",
       "0        Console portátil ROG Ally  RC71L-NH010W   \n",
       "1     Smartphone Gamer ASUS ROG Phone 7 Ultimate   \n",
       "2  AeroActive Cooler 6 for ROG Phone 5/5s Series   \n",
       "3          Smartphone Gamer ASUS ROG Phone 6 Pro   \n",
       "4    Smartphone Gamer ASUS ROG Phone 6D Ultimate   \n",
       "\n",
       "                                           Atributos  \n",
       "0  [Windows 11 Home, AMD Ryzen™ Z1 Extreme Proces...  \n",
       "1  [Qualcomm Snapdragon 8 Gen 2, LPDDR5X 16GB, UF...  \n",
       "2                                                 []  \n",
       "3  [Qualcomm Snapdragon 8+ Gen 1, LPDDR5 18GB, UF...  \n",
       "4  [MediaTek Dimensity 9000+, LPDDR5X 16GB, UFS3....  "
      ]
     },
     "execution_count": 23,
     "metadata": {},
     "output_type": "execute_result"
    }
   ],
   "source": [
    "import pandas as pd\n",
    "\n",
    "# Crie uma lista para armazenar os dados do DataFrame\n",
    "dados_dataframe = []\n",
    "\n",
    "# Itere sobre cada dicionário de atributos de celulares\n",
    "for atributos_celular in atributos_celulares:\n",
    "    # Extrai o nome do celular e os atributos\n",
    "    nome_produto, atributos = list(atributos_celular.items())[0]\n",
    "    \n",
    "    # Adiciona os dados à lista de dados do DataFrame\n",
    "    dados_dataframe.append({'Nome Produto': nome_produto, 'Atributos': atributos})\n",
    "\n",
    "# Crie o DataFrame\n",
    "df = pd.DataFrame(dados_dataframe)\n",
    "\n",
    "# Exiba o DataFrame\n",
    "df.head()"
   ]
  },
  {
   "cell_type": "code",
   "execution_count": 26,
   "id": "27f65524",
   "metadata": {},
   "outputs": [
    {
     "name": "stdout",
     "output_type": "stream",
     "text": [
      "O DataFrame foi exportado para o arquivo asus_atributos.csv com sucesso!\n"
     ]
    }
   ],
   "source": [
    "# Nome do arquivo CSV\n",
    "nome_arquivo = \"asus_atributos.csv\"\n",
    "\n",
    "# Exportar o DataFrame para o arquivo CSV\n",
    "df.to_csv(nome_arquivo, index=False)\n",
    "\n",
    "print(f'O DataFrame foi exportado para o arquivo {nome_arquivo} com sucesso!')"
   ]
  },
  {
   "cell_type": "code",
   "execution_count": 27,
   "id": "d8d6346c",
   "metadata": {},
   "outputs": [
    {
     "data": {
      "text/html": [
       "<div>\n",
       "<style scoped>\n",
       "    .dataframe tbody tr th:only-of-type {\n",
       "        vertical-align: middle;\n",
       "    }\n",
       "\n",
       "    .dataframe tbody tr th {\n",
       "        vertical-align: top;\n",
       "    }\n",
       "\n",
       "    .dataframe thead th {\n",
       "        text-align: right;\n",
       "    }\n",
       "</style>\n",
       "<table border=\"1\" class=\"dataframe\">\n",
       "  <thead>\n",
       "    <tr style=\"text-align: right;\">\n",
       "      <th></th>\n",
       "      <th>Nome Produto</th>\n",
       "      <th>Atributos</th>\n",
       "    </tr>\n",
       "  </thead>\n",
       "  <tbody>\n",
       "    <tr>\n",
       "      <th>0</th>\n",
       "      <td>Console portátil ROG Ally  RC71L-NH010W</td>\n",
       "      <td>['Windows 11 Home', 'AMD Ryzen™ Z1 Extreme Pro...</td>\n",
       "    </tr>\n",
       "    <tr>\n",
       "      <th>1</th>\n",
       "      <td>Smartphone Gamer ASUS ROG Phone 7 Ultimate</td>\n",
       "      <td>['Qualcomm Snapdragon 8 Gen 2', 'LPDDR5X 16GB'...</td>\n",
       "    </tr>\n",
       "    <tr>\n",
       "      <th>2</th>\n",
       "      <td>AeroActive Cooler 6 for ROG Phone 5/5s Series</td>\n",
       "      <td>[]</td>\n",
       "    </tr>\n",
       "    <tr>\n",
       "      <th>3</th>\n",
       "      <td>Smartphone Gamer ASUS ROG Phone 6 Pro</td>\n",
       "      <td>['Qualcomm Snapdragon 8+ Gen 1', 'LPDDR5 18GB'...</td>\n",
       "    </tr>\n",
       "    <tr>\n",
       "      <th>4</th>\n",
       "      <td>Smartphone Gamer ASUS ROG Phone 6D Ultimate</td>\n",
       "      <td>['MediaTek Dimensity 9000+', 'LPDDR5X 16GB', '...</td>\n",
       "    </tr>\n",
       "    <tr>\n",
       "      <th>5</th>\n",
       "      <td>AeroActive Cooler 6</td>\n",
       "      <td>[]</td>\n",
       "    </tr>\n",
       "    <tr>\n",
       "      <th>6</th>\n",
       "      <td>Smartphone Gamer ASUS ROG Phone 6</td>\n",
       "      <td>['Qualcomm Snapdragon 8+ Gen 1', 'LPDDR5 8GB',...</td>\n",
       "    </tr>\n",
       "    <tr>\n",
       "      <th>7</th>\n",
       "      <td>Smartphone Gamer ASUS ROG Phone 6</td>\n",
       "      <td>['Qualcomm Snapdragon 8+ Gen 1', 'LPDDR5 12GB'...</td>\n",
       "    </tr>\n",
       "    <tr>\n",
       "      <th>8</th>\n",
       "      <td>Suporte inteligente para mochila  - Zenfone 9</td>\n",
       "      <td>[]</td>\n",
       "    </tr>\n",
       "    <tr>\n",
       "      <th>9</th>\n",
       "      <td>Smartphone ASUS Zenfone 9</td>\n",
       "      <td>['Chipset Qualcomm® Snapdragon™ 8+ Gen 1', 'Te...</td>\n",
       "    </tr>\n",
       "    <tr>\n",
       "      <th>10</th>\n",
       "      <td>Capa Devilcase para Zenfone 9</td>\n",
       "      <td>['Resistente e leve', 'Proteção de nível milit...</td>\n",
       "    </tr>\n",
       "    <tr>\n",
       "      <th>11</th>\n",
       "      <td>ROG Phone 5 Lighting Armor Case</td>\n",
       "      <td>[]</td>\n",
       "    </tr>\n",
       "    <tr>\n",
       "      <th>12</th>\n",
       "      <td>ZenPower Slim</td>\n",
       "      <td>[]</td>\n",
       "    </tr>\n",
       "    <tr>\n",
       "      <th>13</th>\n",
       "      <td>ROG Ally Travel Case  ROG ALLY TRAVEL CASE</td>\n",
       "      <td>[]</td>\n",
       "    </tr>\n",
       "    <tr>\n",
       "      <th>14</th>\n",
       "      <td>ROG Gaming Charger Dock</td>\n",
       "      <td>[]</td>\n",
       "    </tr>\n",
       "    <tr>\n",
       "      <th>15</th>\n",
       "      <td>Smartphone ASUS Zenfone 10</td>\n",
       "      <td>['Chipset Qualcomm® Snapdragon™ 8 Gen 2', 'Tel...</td>\n",
       "    </tr>\n",
       "  </tbody>\n",
       "</table>\n",
       "</div>"
      ],
      "text/plain": [
       "                                     Nome Produto  \\\n",
       "0         Console portátil ROG Ally  RC71L-NH010W   \n",
       "1      Smartphone Gamer ASUS ROG Phone 7 Ultimate   \n",
       "2   AeroActive Cooler 6 for ROG Phone 5/5s Series   \n",
       "3           Smartphone Gamer ASUS ROG Phone 6 Pro   \n",
       "4     Smartphone Gamer ASUS ROG Phone 6D Ultimate   \n",
       "5                             AeroActive Cooler 6   \n",
       "6               Smartphone Gamer ASUS ROG Phone 6   \n",
       "7               Smartphone Gamer ASUS ROG Phone 6   \n",
       "8   Suporte inteligente para mochila  - Zenfone 9   \n",
       "9                       Smartphone ASUS Zenfone 9   \n",
       "10                  Capa Devilcase para Zenfone 9   \n",
       "11                ROG Phone 5 Lighting Armor Case   \n",
       "12                                  ZenPower Slim   \n",
       "13     ROG Ally Travel Case  ROG ALLY TRAVEL CASE   \n",
       "14                        ROG Gaming Charger Dock   \n",
       "15                     Smartphone ASUS Zenfone 10   \n",
       "\n",
       "                                            Atributos  \n",
       "0   ['Windows 11 Home', 'AMD Ryzen™ Z1 Extreme Pro...  \n",
       "1   ['Qualcomm Snapdragon 8 Gen 2', 'LPDDR5X 16GB'...  \n",
       "2                                                  []  \n",
       "3   ['Qualcomm Snapdragon 8+ Gen 1', 'LPDDR5 18GB'...  \n",
       "4   ['MediaTek Dimensity 9000+', 'LPDDR5X 16GB', '...  \n",
       "5                                                  []  \n",
       "6   ['Qualcomm Snapdragon 8+ Gen 1', 'LPDDR5 8GB',...  \n",
       "7   ['Qualcomm Snapdragon 8+ Gen 1', 'LPDDR5 12GB'...  \n",
       "8                                                  []  \n",
       "9   ['Chipset Qualcomm® Snapdragon™ 8+ Gen 1', 'Te...  \n",
       "10  ['Resistente e leve', 'Proteção de nível milit...  \n",
       "11                                                 []  \n",
       "12                                                 []  \n",
       "13                                                 []  \n",
       "14                                                 []  \n",
       "15  ['Chipset Qualcomm® Snapdragon™ 8 Gen 2', 'Tel...  "
      ]
     },
     "execution_count": 27,
     "metadata": {},
     "output_type": "execute_result"
    }
   ],
   "source": [
    "dados = pd.read_csv('asus_atributos.csv')\n",
    "dados.head(16)"
   ]
  },
  {
   "cell_type": "code",
   "execution_count": null,
   "id": "fc5b6ee9",
   "metadata": {},
   "outputs": [],
   "source": []
  },
  {
   "cell_type": "code",
   "execution_count": null,
   "id": "5ede755c",
   "metadata": {},
   "outputs": [],
   "source": []
  },
  {
   "cell_type": "code",
   "execution_count": null,
   "id": "e5f18d9a",
   "metadata": {},
   "outputs": [],
   "source": []
  },
  {
   "cell_type": "code",
   "execution_count": null,
   "id": "940ed2e4",
   "metadata": {},
   "outputs": [],
   "source": []
  },
  {
   "cell_type": "code",
   "execution_count": null,
   "id": "bd5001a6",
   "metadata": {},
   "outputs": [],
   "source": []
  },
  {
   "cell_type": "code",
   "execution_count": null,
   "id": "19d5f77d",
   "metadata": {},
   "outputs": [],
   "source": []
  },
  {
   "cell_type": "code",
   "execution_count": null,
   "id": "f35b58cd",
   "metadata": {},
   "outputs": [],
   "source": []
  }
 ],
 "metadata": {
  "kernelspec": {
   "display_name": "Python 3 (ipykernel)",
   "language": "python",
   "name": "python3"
  },
  "language_info": {
   "codemirror_mode": {
    "name": "ipython",
    "version": 3
   },
   "file_extension": ".py",
   "mimetype": "text/x-python",
   "name": "python",
   "nbconvert_exporter": "python",
   "pygments_lexer": "ipython3",
   "version": "3.10.9"
  }
 },
 "nbformat": 4,
 "nbformat_minor": 5
}
